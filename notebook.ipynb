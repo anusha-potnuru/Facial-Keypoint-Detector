{
 "cells": [
  {
   "cell_type": "code",
   "execution_count": 61,
   "metadata": {},
   "outputs": [],
   "source": [
    "from keras import layers\n",
    "import pandas as pd\n",
    "from keras.layers import Activation, ZeroPadding2D, BatchNormalization, Flatten, Conv2D\n",
    "from keras.layers import MaxPooling2D,Input, Dense\n",
    "from keras.models import Model\n",
    "from matplotlib.pyplot import imshow\n",
    "import numpy as np\n",
    "import matplotlib.pyplot as plt\n",
    "\n",
    "import tensorflow as tf"
   ]
  },
  {
   "cell_type": "code",
   "execution_count": 36,
   "metadata": {},
   "outputs": [
    {
     "name": "stdout",
     "output_type": "stream",
     "text": [
      "<class 'str'>\n"
     ]
    }
   ],
   "source": [
    "traindf = pd.read_csv(\"data/training.csv\")\n",
    "testdf =pd.read_csv(\"data/test.csv\")\n",
    "print(  type(traindf.iloc[0]['Image']))\n",
    "# before 'Image' is stored as string, it is converted to matrix\n",
    "traindf['Image'] = traindf['Image'].apply(lambda im: np.fromstring(im, sep=' '))\n",
    "testdf['Image'] = testdf['Image'].apply(lambda im: np.fromstring(im, sep=' '))"
   ]
  },
  {
   "cell_type": "code",
   "execution_count": 37,
   "metadata": {},
   "outputs": [],
   "source": [
    "# print(traindf.head)"
   ]
  },
  {
   "cell_type": "code",
   "execution_count": 18,
   "metadata": {},
   "outputs": [
    {
     "name": "stdout",
     "output_type": "stream",
     "text": [
      "(9216,)\n"
     ]
    }
   ],
   "source": [
    "# print(traindf.iloc[0]['Image'].shape)"
   ]
  },
  {
   "cell_type": "code",
   "execution_count": 38,
   "metadata": {},
   "outputs": [
    {
     "name": "stdout",
     "output_type": "stream",
     "text": [
      "<class 'numpy.ndarray'>\n"
     ]
    }
   ],
   "source": [
    "print(  type(traindf.iloc[0]['Image']))"
   ]
  },
  {
   "cell_type": "code",
   "execution_count": 16,
   "metadata": {
    "scrolled": true
   },
   "outputs": [
    {
     "name": "stdout",
     "output_type": "stream",
     "text": [
      "(7049, 31)\n"
     ]
    }
   ],
   "source": [
    " print(traindf.shape)"
   ]
  },
  {
   "cell_type": "code",
   "execution_count": 39,
   "metadata": {},
   "outputs": [
    {
     "name": "stdout",
     "output_type": "stream",
     "text": [
      "(7049,)\n"
     ]
    }
   ],
   "source": [
    "print(  traindf.isnull().any(axis=1).shape )"
   ]
  },
  {
   "cell_type": "code",
   "execution_count": 41,
   "metadata": {},
   "outputs": [],
   "source": [
    "# examples having missing values\n",
    "# (4909, 31)\n",
    "missdf =traindf[traindf.isnull().any(axis=1) ]"
   ]
  },
  {
   "cell_type": "code",
   "execution_count": 53,
   "metadata": {},
   "outputs": [],
   "source": [
    "missX = np.vstack(missdf['Image'].values)/255\n",
    "missX = missX.astype(np.float32)\n",
    "missX = missX.reshape(missX.shape[0], 96,96,1)\n",
    "\n",
    "missY = missdf.drop('Image', axis=1).values"
   ]
  },
  {
   "cell_type": "code",
   "execution_count": 42,
   "metadata": {},
   "outputs": [
    {
     "name": "stdout",
     "output_type": "stream",
     "text": [
      "<class 'numpy.ndarray'>\n"
     ]
    }
   ],
   "source": [
    "\n",
    "traindf1 = traindf[traindf.isnull().any(axis=1)!=1 ]\n",
    "\n",
    "print( type(traindf1.iloc[1]['Image'] ))\n",
    "\n",
    "X_train = np.vstack(traindf1['Image'].values)/255\n",
    "X_train = X_train.astype(np.float32)\n",
    "X_train = X_train.reshape(X_train.shape[0], 96,96,1)\n",
    "\n",
    "np.random.shuffle(X_train)\n",
    "\n",
    "Y_train= traindf1.drop('Image', axis=1).values\n",
    "Y_train = (Y_train-48)/48\n",
    "Y_train =Y_train.astype(np.float32)"
   ]
  },
  {
   "cell_type": "code",
   "execution_count": 44,
   "metadata": {},
   "outputs": [
    {
     "name": "stdout",
     "output_type": "stream",
     "text": [
      "(2140, 30)\n",
      "(2140, 96, 96, 1)\n"
     ]
    }
   ],
   "source": [
    "print(Y_train.shape)\n",
    "print(X_train.shape)"
   ]
  },
  {
   "cell_type": "code",
   "execution_count": null,
   "metadata": {
    "collapsed": true
   },
   "outputs": [],
   "source": [
    "def flipimages():\n",
    "    X_flip= []\n",
    "    X= tf.placeholder(tf.float32, shape =(96,96,1))\n",
    "    img1 = tf.img.flip_left_right(X)\n",
    "    with tf.session() as sess:\n",
    "        sess.run(global_variables_initializer())\n",
    "        for i in range(X_train.shape[0])\n",
    "            flipimg = sess.run{X_train[i], feed={X: img}}\n",
    "            flipimgy = - Y_train[i]\n",
    "            np.append(X_train, flipimg , axis=0 )\n",
    "            np.append(Y_train, flipimgy, axis=0) "
   ]
  },
  {
   "cell_type": "code",
   "execution_count": 45,
   "metadata": {
    "collapsed": true
   },
   "outputs": [],
   "source": [
    "def lenetmodel(input_shape):\n",
    "    X_input = Input(input_shape) # input_shape = (96,96)\n",
    "    X = X_input\n",
    "    \n",
    "    X= Conv2D(6, (5,5), strides=(1,1),padding='same', name='conv1')(X)\n",
    "    X = BatchNormalization(axis=3)(X)\n",
    "    X = MaxPooling2D((2,2))(X)\n",
    "    X = Activation('relu')(X)\n",
    "    \n",
    "    X= Conv2D(16, (5,5), strides=(1,1), name= 'conv2')(X)\n",
    "    X = BatchNormalization(axis=3)(X)\n",
    "    X = MaxPooling2D((2,2))(X)\n",
    "    X = Activation('relu')(X)\n",
    "    \n",
    "    X= Conv2D(16, (5,5), strides=(1,1), name= 'conv3')(X)\n",
    "    X = BatchNormalization(axis=3)(X)\n",
    "    X = MaxPooling2D((2,2))(X)\n",
    "    X = Activation('relu')(X)    \n",
    "    \n",
    "    X= Flatten()(X)\n",
    "    X = Dense(512 , input_dim=(2304,))(X)\n",
    "    X = Activation('relu')(X)\n",
    "    X =  Dense(120, input_dim=(512,))(X)\n",
    "    X = Activation('relu')(X)\n",
    "    X = Dense(30, input_dim=(120,))(X)\n",
    "        \n",
    "    model = Model(inputs= X_input, outputs= X, name='lenet-5' )\n",
    "    return model;"
   ]
  },
  {
   "cell_type": "code",
   "execution_count": 46,
   "metadata": {},
   "outputs": [
    {
     "name": "stdout",
     "output_type": "stream",
     "text": [
      "Epoch 1/100\n",
      "2140/2140 [==============================] - 26s 12ms/step - loss: 0.1812 - acc: 0.0841\n",
      "Epoch 2/100\n",
      "2140/2140 [==============================] - 33s 15ms/step - loss: 0.0251 - acc: 0.2472\n",
      "Epoch 3/100\n",
      "2140/2140 [==============================] - 30s 14ms/step - loss: 0.0102 - acc: 0.5145\n",
      "Epoch 4/100\n",
      "2140/2140 [==============================] - 32s 15ms/step - loss: 0.0072 - acc: 0.6350\n",
      "Epoch 5/100\n",
      "2140/2140 [==============================] - 28s 13ms/step - loss: 0.0065 - acc: 0.6533\n",
      "Epoch 6/100\n",
      "2140/2140 [==============================] - 24s 11ms/step - loss: 0.0061 - acc: 0.6626\n",
      "Epoch 7/100\n",
      "2140/2140 [==============================] - 25s 11ms/step - loss: 0.0059 - acc: 0.6621\n",
      "Epoch 8/100\n",
      "2140/2140 [==============================] - 25s 12ms/step - loss: 0.0057 - acc: 0.6626\n",
      "Epoch 9/100\n",
      "2140/2140 [==============================] - 24s 11ms/step - loss: 0.0057 - acc: 0.6701\n",
      "Epoch 10/100\n",
      "2140/2140 [==============================] - 26s 12ms/step - loss: 0.0058 - acc: 0.6584\n",
      "Epoch 11/100\n",
      "2140/2140 [==============================] - 24s 11ms/step - loss: 0.0054 - acc: 0.6916\n",
      "Epoch 12/100\n",
      "2140/2140 [==============================] - 24s 11ms/step - loss: 0.0054 - acc: 0.6864\n",
      "Epoch 13/100\n",
      "2140/2140 [==============================] - 27s 13ms/step - loss: 0.0056 - acc: 0.6575\n",
      "Epoch 14/100\n",
      "2140/2140 [==============================] - 24s 11ms/step - loss: 0.0053 - acc: 0.6958\n",
      "Epoch 15/100\n",
      "2140/2140 [==============================] - 25s 12ms/step - loss: 0.0052 - acc: 0.6916\n",
      "Epoch 16/100\n",
      "2140/2140 [==============================] - 26s 12ms/step - loss: 0.0053 - acc: 0.6575\n",
      "Epoch 17/100\n",
      "2140/2140 [==============================] - 25s 12ms/step - loss: 0.0050 - acc: 0.6897\n",
      "Epoch 18/100\n",
      "2140/2140 [==============================] - 24s 11ms/step - loss: 0.0050 - acc: 0.6935\n",
      "Epoch 19/100\n",
      "2140/2140 [==============================] - 25s 12ms/step - loss: 0.0051 - acc: 0.6907\n",
      "Epoch 20/100\n",
      "2140/2140 [==============================] - 25s 12ms/step - loss: 0.0053 - acc: 0.6706\n",
      "Epoch 21/100\n",
      "2140/2140 [==============================] - 25s 12ms/step - loss: 0.0051 - acc: 0.6748\n",
      "Epoch 22/100\n",
      " 256/2140 [==>...........................] - ETA: 22s - loss: 0.0050 - acc: 0.6914"
     ]
    },
    {
     "ename": "KeyboardInterrupt",
     "evalue": "",
     "output_type": "error",
     "traceback": [
      "\u001b[0;31m---------------------------------------------------------------------------\u001b[0m",
      "\u001b[0;31mKeyboardInterrupt\u001b[0m                         Traceback (most recent call last)",
      "\u001b[0;32m<ipython-input-46-acd5fe54ff55>\u001b[0m in \u001b[0;36m<module>\u001b[0;34m()\u001b[0m\n\u001b[1;32m      1\u001b[0m \u001b[0mmodel\u001b[0m \u001b[0;34m=\u001b[0m \u001b[0mlenetmodel\u001b[0m\u001b[0;34m(\u001b[0m\u001b[0;34m(\u001b[0m\u001b[0;36m96\u001b[0m\u001b[0;34m,\u001b[0m\u001b[0;36m96\u001b[0m\u001b[0;34m,\u001b[0m\u001b[0;36m1\u001b[0m\u001b[0;34m)\u001b[0m\u001b[0;34m)\u001b[0m\u001b[0;34m\u001b[0m\u001b[0m\n\u001b[1;32m      2\u001b[0m \u001b[0mmodel\u001b[0m\u001b[0;34m.\u001b[0m\u001b[0mcompile\u001b[0m\u001b[0;34m(\u001b[0m\u001b[0moptimizer\u001b[0m\u001b[0;34m=\u001b[0m\u001b[0;34m'adam'\u001b[0m\u001b[0;34m,\u001b[0m \u001b[0mloss\u001b[0m\u001b[0;34m=\u001b[0m\u001b[0;34m'mean_squared_error'\u001b[0m\u001b[0;34m,\u001b[0m \u001b[0mmetrics\u001b[0m\u001b[0;34m=\u001b[0m\u001b[0;34m[\u001b[0m\u001b[0;34m'accuracy'\u001b[0m\u001b[0;34m]\u001b[0m\u001b[0;34m)\u001b[0m\u001b[0;34m\u001b[0m\u001b[0m\n\u001b[0;32m----> 3\u001b[0;31m \u001b[0mmodel\u001b[0m\u001b[0;34m.\u001b[0m\u001b[0mfit\u001b[0m\u001b[0;34m(\u001b[0m\u001b[0mX_train\u001b[0m\u001b[0;34m,\u001b[0m \u001b[0mY_train\u001b[0m\u001b[0;34m,\u001b[0m \u001b[0mepochs\u001b[0m \u001b[0;34m=\u001b[0m \u001b[0;36m100\u001b[0m\u001b[0;34m,\u001b[0m \u001b[0mbatch_size\u001b[0m \u001b[0;34m=\u001b[0m \u001b[0;36m128\u001b[0m\u001b[0;34m)\u001b[0m\u001b[0;34m\u001b[0m\u001b[0m\n\u001b[0m",
      "\u001b[0;32m~/anaconda3/lib/python3.6/site-packages/keras/engine/training.py\u001b[0m in \u001b[0;36mfit\u001b[0;34m(self, x, y, batch_size, epochs, verbose, callbacks, validation_split, validation_data, shuffle, class_weight, sample_weight, initial_epoch, steps_per_epoch, validation_steps, **kwargs)\u001b[0m\n\u001b[1;32m   1040\u001b[0m                                         \u001b[0minitial_epoch\u001b[0m\u001b[0;34m=\u001b[0m\u001b[0minitial_epoch\u001b[0m\u001b[0;34m,\u001b[0m\u001b[0;34m\u001b[0m\u001b[0m\n\u001b[1;32m   1041\u001b[0m                                         \u001b[0msteps_per_epoch\u001b[0m\u001b[0;34m=\u001b[0m\u001b[0msteps_per_epoch\u001b[0m\u001b[0;34m,\u001b[0m\u001b[0;34m\u001b[0m\u001b[0m\n\u001b[0;32m-> 1042\u001b[0;31m                                         validation_steps=validation_steps)\n\u001b[0m\u001b[1;32m   1043\u001b[0m \u001b[0;34m\u001b[0m\u001b[0m\n\u001b[1;32m   1044\u001b[0m     def evaluate(self, x=None, y=None,\n",
      "\u001b[0;32m~/anaconda3/lib/python3.6/site-packages/keras/engine/training_arrays.py\u001b[0m in \u001b[0;36mfit_loop\u001b[0;34m(model, f, ins, out_labels, batch_size, epochs, verbose, callbacks, val_f, val_ins, shuffle, callback_metrics, initial_epoch, steps_per_epoch, validation_steps)\u001b[0m\n\u001b[1;32m    197\u001b[0m                     \u001b[0mins_batch\u001b[0m\u001b[0;34m[\u001b[0m\u001b[0mi\u001b[0m\u001b[0;34m]\u001b[0m \u001b[0;34m=\u001b[0m \u001b[0mins_batch\u001b[0m\u001b[0;34m[\u001b[0m\u001b[0mi\u001b[0m\u001b[0;34m]\u001b[0m\u001b[0;34m.\u001b[0m\u001b[0mtoarray\u001b[0m\u001b[0;34m(\u001b[0m\u001b[0;34m)\u001b[0m\u001b[0;34m\u001b[0m\u001b[0m\n\u001b[1;32m    198\u001b[0m \u001b[0;34m\u001b[0m\u001b[0m\n\u001b[0;32m--> 199\u001b[0;31m                 \u001b[0mouts\u001b[0m \u001b[0;34m=\u001b[0m \u001b[0mf\u001b[0m\u001b[0;34m(\u001b[0m\u001b[0mins_batch\u001b[0m\u001b[0;34m)\u001b[0m\u001b[0;34m\u001b[0m\u001b[0m\n\u001b[0m\u001b[1;32m    200\u001b[0m                 \u001b[0;32mif\u001b[0m \u001b[0;32mnot\u001b[0m \u001b[0misinstance\u001b[0m\u001b[0;34m(\u001b[0m\u001b[0mouts\u001b[0m\u001b[0;34m,\u001b[0m \u001b[0mlist\u001b[0m\u001b[0;34m)\u001b[0m\u001b[0;34m:\u001b[0m\u001b[0;34m\u001b[0m\u001b[0m\n\u001b[1;32m    201\u001b[0m                     \u001b[0mouts\u001b[0m \u001b[0;34m=\u001b[0m \u001b[0;34m[\u001b[0m\u001b[0mouts\u001b[0m\u001b[0;34m]\u001b[0m\u001b[0;34m\u001b[0m\u001b[0m\n",
      "\u001b[0;32m~/anaconda3/lib/python3.6/site-packages/keras/backend/tensorflow_backend.py\u001b[0m in \u001b[0;36m__call__\u001b[0;34m(self, inputs)\u001b[0m\n\u001b[1;32m   2659\u001b[0m                 \u001b[0;32mreturn\u001b[0m \u001b[0mself\u001b[0m\u001b[0;34m.\u001b[0m\u001b[0m_legacy_call\u001b[0m\u001b[0;34m(\u001b[0m\u001b[0minputs\u001b[0m\u001b[0;34m)\u001b[0m\u001b[0;34m\u001b[0m\u001b[0m\n\u001b[1;32m   2660\u001b[0m \u001b[0;34m\u001b[0m\u001b[0m\n\u001b[0;32m-> 2661\u001b[0;31m             \u001b[0;32mreturn\u001b[0m \u001b[0mself\u001b[0m\u001b[0;34m.\u001b[0m\u001b[0m_call\u001b[0m\u001b[0;34m(\u001b[0m\u001b[0minputs\u001b[0m\u001b[0;34m)\u001b[0m\u001b[0;34m\u001b[0m\u001b[0m\n\u001b[0m\u001b[1;32m   2662\u001b[0m         \u001b[0;32melse\u001b[0m\u001b[0;34m:\u001b[0m\u001b[0;34m\u001b[0m\u001b[0m\n\u001b[1;32m   2663\u001b[0m             \u001b[0;32mif\u001b[0m \u001b[0mpy_any\u001b[0m\u001b[0;34m(\u001b[0m\u001b[0mis_tensor\u001b[0m\u001b[0;34m(\u001b[0m\u001b[0mx\u001b[0m\u001b[0;34m)\u001b[0m \u001b[0;32mfor\u001b[0m \u001b[0mx\u001b[0m \u001b[0;32min\u001b[0m \u001b[0minputs\u001b[0m\u001b[0;34m)\u001b[0m\u001b[0;34m:\u001b[0m\u001b[0;34m\u001b[0m\u001b[0m\n",
      "\u001b[0;32m~/anaconda3/lib/python3.6/site-packages/keras/backend/tensorflow_backend.py\u001b[0m in \u001b[0;36m_call\u001b[0;34m(self, inputs)\u001b[0m\n\u001b[1;32m   2629\u001b[0m                                 \u001b[0msymbol_vals\u001b[0m\u001b[0;34m,\u001b[0m\u001b[0;34m\u001b[0m\u001b[0m\n\u001b[1;32m   2630\u001b[0m                                 session)\n\u001b[0;32m-> 2631\u001b[0;31m         \u001b[0mfetched\u001b[0m \u001b[0;34m=\u001b[0m \u001b[0mself\u001b[0m\u001b[0;34m.\u001b[0m\u001b[0m_callable_fn\u001b[0m\u001b[0;34m(\u001b[0m\u001b[0;34m*\u001b[0m\u001b[0marray_vals\u001b[0m\u001b[0;34m)\u001b[0m\u001b[0;34m\u001b[0m\u001b[0m\n\u001b[0m\u001b[1;32m   2632\u001b[0m         \u001b[0;32mreturn\u001b[0m \u001b[0mfetched\u001b[0m\u001b[0;34m[\u001b[0m\u001b[0;34m:\u001b[0m\u001b[0mlen\u001b[0m\u001b[0;34m(\u001b[0m\u001b[0mself\u001b[0m\u001b[0;34m.\u001b[0m\u001b[0moutputs\u001b[0m\u001b[0;34m)\u001b[0m\u001b[0;34m]\u001b[0m\u001b[0;34m\u001b[0m\u001b[0m\n\u001b[1;32m   2633\u001b[0m \u001b[0;34m\u001b[0m\u001b[0m\n",
      "\u001b[0;32m~/anaconda3/lib/python3.6/site-packages/tensorflow/python/client/session.py\u001b[0m in \u001b[0;36m__call__\u001b[0;34m(self, *args)\u001b[0m\n\u001b[1;32m   1449\u001b[0m         \u001b[0;32mif\u001b[0m \u001b[0mself\u001b[0m\u001b[0;34m.\u001b[0m\u001b[0m_session\u001b[0m\u001b[0;34m.\u001b[0m\u001b[0m_created_with_new_api\u001b[0m\u001b[0;34m:\u001b[0m\u001b[0;34m\u001b[0m\u001b[0m\n\u001b[1;32m   1450\u001b[0m           return tf_session.TF_SessionRunCallable(\n\u001b[0;32m-> 1451\u001b[0;31m               self._session._session, self._handle, args, status, None)\n\u001b[0m\u001b[1;32m   1452\u001b[0m         \u001b[0;32melse\u001b[0m\u001b[0;34m:\u001b[0m\u001b[0;34m\u001b[0m\u001b[0m\n\u001b[1;32m   1453\u001b[0m           return tf_session.TF_DeprecatedSessionRunCallable(\n",
      "\u001b[0;31mKeyboardInterrupt\u001b[0m: "
     ]
    }
   ],
   "source": [
    "model = lenetmodel((96,96,1))\n",
    "model.compile(optimizer='adam', loss='mean_squared_error', metrics=['accuracy'])\n",
    "model.fit(X_train, Y_train, epochs = 100, batch_size = 128)"
   ]
  },
  {
   "cell_type": "code",
   "execution_count": 75,
   "metadata": {},
   "outputs": [
    {
     "name": "stdout",
     "output_type": "stream",
     "text": [
      "_________________________________________________________________\n",
      "Layer (type)                 Output Shape              Param #   \n",
      "=================================================================\n",
      "input_1 (InputLayer)         (None, 96, 96, 1)         0         \n",
      "_________________________________________________________________\n",
      "conv1 (Conv2D)               (None, 96, 96, 6)         156       \n",
      "_________________________________________________________________\n",
      "batch_normalization_1 (Batch (None, 96, 96, 6)         24        \n",
      "_________________________________________________________________\n",
      "max_pooling2d_1 (MaxPooling2 (None, 48, 48, 6)         0         \n",
      "_________________________________________________________________\n",
      "activation_1 (Activation)    (None, 48, 48, 6)         0         \n",
      "_________________________________________________________________\n",
      "conv2 (Conv2D)               (None, 44, 44, 16)        2416      \n",
      "_________________________________________________________________\n",
      "batch_normalization_2 (Batch (None, 44, 44, 16)        64        \n",
      "_________________________________________________________________\n",
      "max_pooling2d_2 (MaxPooling2 (None, 22, 22, 16)        0         \n",
      "_________________________________________________________________\n",
      "activation_2 (Activation)    (None, 22, 22, 16)        0         \n",
      "_________________________________________________________________\n",
      "conv3 (Conv2D)               (None, 18, 18, 16)        6416      \n",
      "_________________________________________________________________\n",
      "batch_normalization_3 (Batch (None, 18, 18, 16)        64        \n",
      "_________________________________________________________________\n",
      "max_pooling2d_3 (MaxPooling2 (None, 9, 9, 16)          0         \n",
      "_________________________________________________________________\n",
      "activation_3 (Activation)    (None, 9, 9, 16)          0         \n",
      "_________________________________________________________________\n",
      "flatten_1 (Flatten)          (None, 1296)              0         \n",
      "_________________________________________________________________\n",
      "dense_1 (Dense)              (None, 512)               664064    \n",
      "_________________________________________________________________\n",
      "activation_4 (Activation)    (None, 512)               0         \n",
      "_________________________________________________________________\n",
      "dense_2 (Dense)              (None, 120)               61560     \n",
      "_________________________________________________________________\n",
      "activation_5 (Activation)    (None, 120)               0         \n",
      "_________________________________________________________________\n",
      "dense_3 (Dense)              (None, 30)                3630      \n",
      "=================================================================\n",
      "Total params: 738,394\n",
      "Trainable params: 738,318\n",
      "Non-trainable params: 76\n",
      "_________________________________________________________________\n"
     ]
    }
   ],
   "source": [
    "model.summary()"
   ]
  },
  {
   "cell_type": "code",
   "execution_count": 56,
   "metadata": {},
   "outputs": [],
   "source": [
    "\n",
    "output = model.predict(missX, batch_size=128 )\n",
    "for i in range(len(missX)):\n",
    "    for j in range(30):\n",
    "        if( pd.isnull(missY[i][j]) ):\n",
    "            missY[i][j] = output[i][j]                "
   ]
  },
  {
   "cell_type": "code",
   "execution_count": 58,
   "metadata": {
    "collapsed": true
   },
   "outputs": [],
   "source": [
    "\n",
    "missY = (missY-48)/48\n",
    "missY = missY.astype(np.float32)"
   ]
  },
  {
   "cell_type": "code",
   "execution_count": 59,
   "metadata": {},
   "outputs": [
    {
     "name": "stdout",
     "output_type": "stream",
     "text": [
      "Epoch 1/10\n",
      "4909/4909 [==============================] - 58s 12ms/step - loss: 0.1819 - acc: 0.6087\n",
      "Epoch 2/10\n",
      "4909/4909 [==============================] - 65s 13ms/step - loss: 0.0260 - acc: 0.9682\n",
      "Epoch 3/10\n",
      "4909/4909 [==============================] - 59s 12ms/step - loss: 0.0263 - acc: 0.9690\n",
      "Epoch 4/10\n",
      "4909/4909 [==============================] - 67s 14ms/step - loss: 0.0241 - acc: 0.9713\n",
      "Epoch 5/10\n",
      "4909/4909 [==============================] - 62s 13ms/step - loss: 0.0232 - acc: 0.9711\n",
      "Epoch 6/10\n",
      "4909/4909 [==============================] - 56s 11ms/step - loss: 0.0224 - acc: 0.9711\n",
      "Epoch 7/10\n",
      "4909/4909 [==============================] - 56s 11ms/step - loss: 0.0227 - acc: 0.9709\n",
      "Epoch 8/10\n",
      "4909/4909 [==============================] - 60s 12ms/step - loss: 0.0230 - acc: 0.9703\n",
      "Epoch 9/10\n",
      "4909/4909 [==============================] - 55s 11ms/step - loss: 0.0235 - acc: 0.9699\n",
      "Epoch 10/10\n",
      "4909/4909 [==============================] - 54s 11ms/step - loss: 0.0220 - acc: 0.9699\n"
     ]
    },
    {
     "data": {
      "text/plain": [
       "<keras.callbacks.History at 0x18225acc50>"
      ]
     },
     "execution_count": 59,
     "metadata": {},
     "output_type": "execute_result"
    }
   ],
   "source": [
    "model.fit(missX, missY, epochs = 10, batch_size = 128)"
   ]
  },
  {
   "cell_type": "code",
   "execution_count": 88,
   "metadata": {},
   "outputs": [
    {
     "data": {
      "image/png": "[encoded data removed]",
      "text/plain": [
       "<matplotlib.figure.Figure at 0x1824cd9358>"
      ]
     },
     "metadata": {},
     "output_type": "display_data"
    }
   ],
   "source": [
    "k =3\n",
    "image = np.round(missX[k] * 255)\n",
    "\n",
    "plt.imshow(image.reshape(96,96), cmap ='gray' )\n",
    "plt.scatter( missY[k][0::2] * 48 + 48, missY[k][1::2] * 48 + 48, marker='x', s=10)\n",
    "\n",
    "plt.show()"
   ]
  },
  {
   "cell_type": "code",
   "execution_count": 76,
   "metadata": {
    "collapsed": true
   },
   "outputs": [],
   "source": [
    "model.save('my_model_final.h5')"
   ]
  },
  {
   "cell_type": "code",
   "execution_count": null,
   "metadata": {
    "collapsed": true
   },
   "outputs": [],
   "source": []
  }
 ],
 "metadata": {
  "kernelspec": {
   "display_name": "Python 3",
   "language": "python",
   "name": "python3"
  },
  "language_info": {
   "codemirror_mode": {
    "name": "ipython",
    "version": 3
   },
   "file_extension": ".py",
   "mimetype": "text/x-python",
   "name": "python",
   "nbconvert_exporter": "python",
   "pygments_lexer": "ipython3",
   "version": "3.6.3"
  }
 },
 "nbformat": 4,
 "nbformat_minor": 2
}
